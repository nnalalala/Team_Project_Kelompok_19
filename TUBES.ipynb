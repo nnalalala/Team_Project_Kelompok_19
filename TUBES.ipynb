{
 "cells": [
  {
   "cell_type": "code",
   "execution_count": 28,
   "metadata": {},
   "outputs": [
    {
     "name": "stdout",
     "output_type": "stream",
     "text": [
      "[['Kusuma Sari', 'asia', '$$'], [\"Selat Vien's Pusat\", 'asia', '$'], ['Bakso Alex Mangkunegaran', 'asia', '$'], ['Gladak Langen Bogan', 'asia', '$'], ['Timlo Maestro', 'asia', '$'], ['Cafe Tiga Ceret', 'asia', '$']]\n",
      "[['Kusuma Sari', 'asia', '$$'], ['Sate Kambing Mas Mario', 'timur tengah', '$$'], ['Kebuli Gaharu', 'timur tengah', '$$'], ['Kareema Catering', 'timur tengah', '$$']]\n",
      "False\n"
     ]
    }
   ],
   "source": [
    "import json\n",
    "from tabulate import tabulate\n",
    "with open('bismillah.json', encoding='utf-8')as f:\n",
    "    data = json.load(f)\n",
    "\n",
    "#daftar resto \n",
    "namaresto = []\n",
    "for restoran in data:\n",
    "    if restoran['restoran']['harga']in ['$','$$','$$$','$$$$']:\n",
    "        namaresto.append([restoran['restoran']['nama'],restoran['restoran']['desc'],restoran['restoran']['rekomen'],restoran['restoran']['alamat'],restoran['restoran']['jam']['peak'],restoran['restoran']['jam']['operasional'],restoran['restoran']['harga']])\n",
    "\n",
    "#datar resto jadi kecil\n",
    "resto_lower = [element[0].lower() for element in namaresto]\n",
    "\n",
    "#filter jenis restoran\n",
    "resto_filter1=[]\n",
    "jenisresto = input('Masukkan tipe jenis restoran.      Asia, Barat, Timur Tengah')\n",
    "for restoran in data:\n",
    "    if restoran['restoran']['tipe']  == jenisresto:\n",
    "        resto_filter1.append([restoran['restoran']['nama'],restoran['restoran']['tipe'],restoran['restoran']['harga']])\n",
    "print(resto_filter1)\n",
    "\n",
    "#filter harga restoran\n",
    "resto_filter2=[]\n",
    "hargaresto = input('Masukkan range harga restoran.     $,$$,$$$,$$$$')\n",
    "for restoran in data:\n",
    "    if restoran['restoran']['harga']  == hargaresto:\n",
    "        resto_filter2.append([restoran['restoran']['nama'],restoran['restoran']['tipe'],restoran['restoran']['harga']])\n",
    "print(resto_filter2)\n",
    "\n",
    "#filter gabungan\n",
    "resto_filter3 = resto_filter2 in resto_filter1\n",
    "print(resto_filter3)\n",
    "#print resto sesuai filter\n",
    "#print(tabulate(resto_filter3,headers=['Nama Restoran','Tipe Restoran','Range Harga'],tablefmt='orgbtl'))\n",
    "\n",
    "#perulangan nyari resto\n",
    "search = input(\"Ingin menelusuri Restoran? y/n \")\n",
    "if search.lower()== 'y':\n",
    "    search = True\n",
    "else:\n",
    "    search = False\n",
    "\n",
    "#input resto\n",
    "while search:\n",
    "    find = input(\"Masukkan nama Restoran: \")\n",
    "    if find.lower() in resto_lower:\n",
    "        index = resto_lower.index(find.lower())\n",
    "        print(tabulate([namaresto[index]], headers=['Restoran','Deskripsi','Recommended Menu','Alamat','Peak Hour','Operasional Hour','Harga'], tablefmt=\"orgtbl\"))\n",
    "    else:\n",
    "        print(\"Resto tidak tersedia\")\n",
    "    print(\"-\"*30+\"\\n\")\n",
    "    \n",
    "    #input lagi ga\n",
    "    search = input(\"Ingin menelusuri restoran lagi? y/n \")\n",
    "    if search.lower() == 'y':\n",
    "        search = True\n",
    "    else:\n",
    "        search = False\n"
   ]
  }
 ],
 "metadata": {
  "kernelspec": {
   "display_name": "Python 3",
   "language": "python",
   "name": "python3"
  },
  "language_info": {
   "codemirror_mode": {
    "name": "ipython",
    "version": 3
   },
   "file_extension": ".py",
   "mimetype": "text/x-python",
   "name": "python",
   "nbconvert_exporter": "python",
   "pygments_lexer": "ipython3",
   "version": "3.11.3"
  },
  "orig_nbformat": 4
 },
 "nbformat": 4,
 "nbformat_minor": 2
}
