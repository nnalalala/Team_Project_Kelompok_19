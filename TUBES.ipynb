{
 "cells": [
  {
   "cell_type": "code",
   "execution_count": 27,
   "metadata": {},
   "outputs": [
    {
     "name": "stdout",
     "output_type": "stream",
     "text": [
      "| Restoran    | Deskripsi   | Recommended Menu   | Alamat                                                                          | Peak Hour   | Operasional Hour   | Harga   |\n",
      "|-------------+-------------+--------------------+---------------------------------------------------------------------------------+-------------+--------------------+---------|\n",
      "| Kusuma Sari | apa lah     | apa kek            | Slamet Riyadi St No.111, Kemlayan, Serengan, Surakarta City, Central Java 57151 | 12.00-14.00 | 09.00-22.00        | $$      |\n",
      "------------------------------\n",
      "\n",
      "Resto tidak tersedia\n",
      "------------------------------\n",
      "\n",
      "| Restoran        | Deskripsi   | Recommended Menu   | Alamat                                                                                | Peak Hour   | Operasional Hour   | Harga   |\n",
      "|-----------------+-------------+--------------------+---------------------------------------------------------------------------------------+-------------+--------------------+---------|\n",
      "| Cafe Tiga Ceret | apa lah     | apa kek            | Jl. Ronggowarsito No.97, Keprabon, Kec. Banjarsari, Kota Surakarta, Jawa Tengah 57131 | 20.00-23.00 | 11.00-00.30        | $       |\n",
      "------------------------------\n",
      "\n"
     ]
    }
   ],
   "source": [
    "import json\n",
    "from tabulate import tabulate\n",
    "with open('bismillah.json', encoding='utf-8')as f:\n",
    "    data = json.load(f)\n",
    "\n",
    "#daftar resto \n",
    "namaresto = []\n",
    "for restoran in data:\n",
    "    if restoran['restoran']['harga']in ['$','$$','$$$','$$$$']:\n",
    "        namaresto.append([restoran['restoran']['nama'],restoran['restoran']['desc'],restoran['restoran']['rekomen'],restoran['restoran']['alamat'],restoran['restoran']['jam']['peak'],restoran['restoran']['jam']['operasional'],restoran['restoran']['harga']])\n",
    "\n",
    "#datar resto jadi kecil\n",
    "resto_lower = [element[0].lower() for element in namaresto]\n",
    "\n",
    "#perulangan nyari resto\n",
    "search = input(\"Ingin menelusuri Restoran? y/n \")\n",
    "if search.lower()== 'y':\n",
    "    search = True\n",
    "else:\n",
    "    search = False\n",
    "\n",
    "#input resto\n",
    "while search:\n",
    "    find = input(\"Masukkan nama Restoran: \")\n",
    "    if find.lower() in resto_lower:\n",
    "        index = resto_lower.index(find.lower())\n",
    "        print(tabulate([namaresto[index]], headers=['Restoran','Deskripsi','Recommended Menu','Alamat','Peak Hour','Operasional Hour','Harga'], tablefmt=\"orgtbl\"))\n",
    "    else:\n",
    "        print(\"Resto tidak tersedia\")\n",
    "    print(\"-\"*30+\"\\n\")\n",
    "    \n",
    "    #input lagi ga\n",
    "    search = input(\"Ingin menelusuri restoran lagi? y/n \")\n",
    "    if search.lower() == 'y':\n",
    "        search = True\n",
    "    else:\n",
    "        search = False\n"
   ]
  }
 ],
 "metadata": {
  "language_info": {
   "name": "python"
  },
  "orig_nbformat": 4
 },
 "nbformat": 4,
 "nbformat_minor": 2
}
