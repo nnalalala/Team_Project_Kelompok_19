{
 "cells": [
  {
   "cell_type": "code",
   "execution_count": 28,
   "metadata": {},
   "outputs": [
    {
     "name": "stdout",
     "output_type": "stream",
     "text": [
      "| Restoran                  | Deskripsi                                                                                                       | Recommended Menu                                      | Alamat                                                                                    | Peak Hour   | Operasional Hour                                             | Harga   |\n",
      "|---------------------------+-----------------------------------------------------------------------------------------------------------------+-------------------------------------------------------+-------------------------------------------------------------------------------------------+-------------+--------------------------------------------------------------+---------|\n",
      "| Yassalam Resto & Catering | Restoran yang sudah terkenal dengan masakan Timur Tengahnya yang juga menyediakan Catering untuk event tertutup | Nasi Mandhi Lahm, Samosa, Susu Kurma, Sunset on Thaif | Jl. Kapten Mulyadi No.193, Ps. Kliwon, Kec. Ps. Kliwon, Kota Surakarta, Jawa Tengah 57118 | 18.00-20.00 | Senin - Kamis = 09,00 - 21,00 Jumat - Minggu = 09.00 - 22.00 | $$$     |\n",
      "------------------------------\n",
      "\n",
      "| Restoran        | Deskripsi                                                                              | Recommended Menu            | Alamat                                                                               | Peak Hour    | Operasional Hour   | Harga   |\n",
      "|-----------------+----------------------------------------------------------------------------------------+-----------------------------+--------------------------------------------------------------------------------------+--------------+--------------------+---------|\n",
      "| Nasi Kebuli ISI | Tempat sarapan yang memiliki rasa yang luar biasa dengan harga yang tetap ramah dompet | Nasi Kebuli lengkap, Es teh | Jl. Ki Hajar Dewantara No.49, Jebres, Kec. Jebres, Kota Surakarta, Jawa Tengah 57126 | 08.00-10,.00 | 07.00-12.00        | $       |\n",
      "------------------------------\n",
      "\n",
      "| Restoran   | Deskripsi                                                                                | Recommended Menu                   | Alamat                                                                            | Peak Hour   | Operasional Hour   | Harga   |\n",
      "|------------+------------------------------------------------------------------------------------------+------------------------------------+-----------------------------------------------------------------------------------+-------------+--------------------+---------|\n",
      "| Amira      | Toko roti yang menjual aneka cemilan kering dan basah dengan cita rasa khas timur tengah | cemilan - cemilan basah dan kering | Jl. Bogowonto No.58, Semanggi, Kec. Ps. Kliwon, Kota Surakarta, Jawa Tengah 57117 | -           | 09.00-16.00        | $       |\n",
      "------------------------------\n",
      "\n",
      "| Restoran      | Deskripsi                                                                                       | Recommended Menu                                        | Alamat                                                                                             | Peak Hour   | Operasional Hour   | Harga   |\n",
      "|---------------+-------------------------------------------------------------------------------------------------+---------------------------------------------------------+----------------------------------------------------------------------------------------------------+-------------+--------------------+---------|\n",
      "| Kebuli Gaharu | Restoran yang menyajikan berbagai macam jenis Nasi kebuli yang dimulai dari ayam hingga kambing | Kebuli Spesial, Nasi Mandhi Kambing, Ice Vietnam Coffee | Jl. Kali Sampang No.1A, RT.01/RW.2, Ps. Kliwon, Kec. Ps. Kliwon, Kota Surakarta, Jawa Tengah 57118 | -           | 16.00-17.30        | $$      |\n",
      "------------------------------\n",
      "\n",
      "| Restoran         | Deskripsi                                                                              | Recommended Menu                               | Alamat                                                                           | Peak Hour   | Operasional Hour   | Harga   |\n",
      "|------------------+----------------------------------------------------------------------------------------+------------------------------------------------+----------------------------------------------------------------------------------+-------------+--------------------+---------|\n",
      "| Kareema Catering | Sebuah toko roti yang menyajikan ruangan privat dengan menu catering asal timur tengah | Nasi Kebuli, Rice Bowl, Podeng Roti, Croissant | Gg. Serayu 8 No.30, Semanggi, Kec. Ps. Kliwon, Kota Surakarta, Jawa Tengah 57118 | -           | 08.30-21.00        | $$      |\n",
      "------------------------------\n",
      "\n"
     ]
    }
   ],
   "source": [
    "import json\n",
    "from tabulate import tabulate\n",
    "with open('bismillah.json', encoding='utf-8')as f:\n",
    "    data = json.load(f)\n",
    "\n",
    "#daftar resto \n",
    "namaresto = []\n",
    "for restoran in data:\n",
    "    if restoran['restoran']['harga']in ['$','$$','$$$','$$$$']:\n",
    "        namaresto.append([restoran['restoran']['nama'],restoran['restoran']['desc'],restoran['restoran']['rekomen'],restoran['restoran']['alamat'],restoran['restoran']['jam']['peak'],restoran['restoran']['jam']['operasional'],restoran['restoran']['harga']])\n",
    "\n",
    "#datar resto jadi kecil\n",
    "resto_lower = [element[0].lower() for element in namaresto]\n",
    "\n",
    "#perulangan nyari resto\n",
    "search = input(\"Ingin menelusuri Restoran? y/n \")\n",
    "if search.lower()== 'y':\n",
    "    search = True\n",
    "else:\n",
    "    search = False\n",
    "\n",
    "#input resto\n",
    "while search:\n",
    "    find = input(\"Masukkan nama Restoran: \")\n",
    "    if find.lower() in resto_lower:\n",
    "        index = resto_lower.index(find.lower())\n",
    "        print(tabulate([namaresto[index]], headers=['Restoran','Deskripsi','Recommended Menu','Alamat','Peak Hour','Operasional Hour','Harga'], tablefmt=\"orgtbl\"))\n",
    "    else:\n",
    "        print(\"Resto tidak tersedia\")\n",
    "    print(\"-\"*30+\"\\n\")\n",
    "    \n",
    "    #input lagi ga\n",
    "    search = input(\"Ingin menelusuri restoran lagi? y/n \")\n",
    "    if search.lower() == 'y':\n",
    "        search = True\n",
    "    else:\n",
    "        search = False\n"
   ]
  }
 ],
 "metadata": {
  "language_info": {
   "name": "python"
  },
  "orig_nbformat": 4
 },
 "nbformat": 4,
 "nbformat_minor": 2
}
