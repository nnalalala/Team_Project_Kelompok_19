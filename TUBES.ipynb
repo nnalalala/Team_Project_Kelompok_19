{
 "cells": [
  {
   "cell_type": "code",
   "execution_count": 10,
   "metadata": {},
   "outputs": [
    {
     "name": "stdout",
     "output_type": "stream",
     "text": [
      "Resto tidak tersedia\n",
      "------------------------------\n",
      "\n",
      "Resto tidak tersedia\n",
      "------------------------------\n",
      "\n",
      "------------------------------\n",
      "\n"
     ]
    }
   ],
   "source": [
    "import json\n",
    "from tabulate import tabulate\n",
    "with open('bismillah.json', encoding='utf-8')as f:\n",
    "    data = json.load(f)\n",
    "\n",
    "#daftar resto $\n",
    "namaresto = []\n",
    "for restoran in data:\n",
    "    if restoran['restoran']['harga']=='$':\n",
    "        namaresto.append([restoran['restoran']['nama'],restoran['restoran']['desc'],restoran['restoran']['rekomen'],restoran['restoran']['alamat'],restoran['restoran']['jam']['peak'],restoran['restoran']['jam']['operasional'],restoran['restoran']['harga']])\n",
    "\n",
    "#daftar resto $$\n",
    "namaresto = []\n",
    "for restoran in data:\n",
    "    if restoran['restoran']['harga']=='$$':\n",
    "        namaresto.append([restoran['restoran']['nama'],restoran['restoran']['desc'],restoran['restoran']['rekomen'],restoran['restoran']['alamat'],restoran['restoran']['jam']['peak'],restoran['restoran']['jam']['operasional'],restoran['restoran']['harga']])\n",
    "\n",
    "#daftar resto $$$\n",
    "namaresto = []\n",
    "for restoran in data:\n",
    "    if restoran['restoran']['harga']=='$$$':\n",
    "        namaresto.append([restoran['restoran']['nama'],restoran['restoran']['desc'],restoran['restoran']['rekomen'],restoran['restoran']['alamat'],restoran['restoran']['jam']['peak'],restoran['restoran']['jam']['operasional'],restoran['restoran']['harga']])\n",
    "\n",
    "#daftar resto $$$$\n",
    "namaresto = []\n",
    "for restoran in data:\n",
    "    if restoran['restoran']['harga']=='$$$$':\n",
    "        namaresto.append([restoran['restoran']['nama'],restoran['restoran']['desc'],restoran['restoran']['rekomen'],restoran['restoran']['alamat'],restoran['restoran']['jam']['peak'],restoran['restoran']['jam']['operasional'],restoran['restoran']['harga']])\n",
    "\n",
    "#datar resto jadi kecil\n",
    "resto_lower = [element[0].lower() for element in namaresto]\n",
    "\n",
    "#perulangan nyari resto\n",
    "search = input(\"Ingin menelusuri Restoran? y/n \")\n",
    "if search.lower()in [\"y\"]:\n",
    "    search = True\n",
    "else:\n",
    "    search = False\n",
    "\n",
    "#input resto\n",
    "while search:\n",
    "    find = input(\"Masukkan nama Restoran: \")\n",
    "    if find.lower() in resto_lower:\n",
    "        index = resto_lower.index(find.lower())\n",
    "        print(tabulate(namaresto,headers=['restoran','desc','rekomen','alamat','peak','operasional'], tablefmt=\"orgtbl\"))\n",
    "    else:\n",
    "        print(\"Resto tidak tersedia\")\n",
    "    print(\"-\"*30+\"\\n\")\n",
    "    \n",
    "    #input lagi ga\n",
    "    search = input(\"Ingin menelusuri restoran lagi? y/n \")\n",
    "    if search.lower() in [\"y\"]:\n",
    "        search = True\n",
    "    else:\n",
    "        search = False\n",
    "print(\"-\"*30+\"\\n\")\n"
   ]
  }
 ],
 "metadata": {
  "kernelspec": {
   "display_name": "Python 3",
   "language": "python",
   "name": "python3"
  },
  "language_info": {
   "codemirror_mode": {
    "name": "ipython",
    "version": 3
   },
   "file_extension": ".py",
   "mimetype": "text/x-python",
   "name": "python",
   "nbconvert_exporter": "python",
   "pygments_lexer": "ipython3",
   "version": "3.11.2"
  },
  "orig_nbformat": 4
 },
 "nbformat": 4,
 "nbformat_minor": 2
}
